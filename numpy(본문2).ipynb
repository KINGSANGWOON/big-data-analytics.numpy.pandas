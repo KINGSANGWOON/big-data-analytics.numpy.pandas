{
  "nbformat": 4,
  "nbformat_minor": 0,
  "metadata": {
    "colab": {
      "name": "numpy(본문2).ipynb",
      "provenance": [],
      "authorship_tag": "ABX9TyNDC1DexfnSjq79CnvP+XPs",
      "include_colab_link": true
    },
    "kernelspec": {
      "name": "python3",
      "display_name": "Python 3"
    },
    "language_info": {
      "name": "python"
    }
  },
  "cells": [
    {
      "cell_type": "markdown",
      "metadata": {
        "id": "view-in-github",
        "colab_type": "text"
      },
      "source": [
        "<a href=\"https://colab.research.google.com/github/KINGSANGWOON/personal-study/blob/main/numpy(%EB%B3%B8%EB%AC%B82).ipynb\" target=\"_parent\"><img src=\"https://colab.research.google.com/assets/colab-badge.svg\" alt=\"Open In Colab\"/></a>"
      ]
    },
    {
      "cell_type": "code",
      "execution_count": 2,
      "metadata": {
        "colab": {
          "base_uri": "https://localhost:8080/"
        },
        "id": "vjfkPZtTbTaQ",
        "outputId": "4a656625-499a-45c5-ca4e-2a43e33ead3b"
      },
      "outputs": [
        {
          "output_type": "stream",
          "name": "stdout",
          "text": [
            "[[ 2  4  6  8]\n",
            " [10 12 14 16]\n",
            " [18 20 22 24]\n",
            " [26 28 30 32]]\n"
          ]
        },
        {
          "output_type": "execute_result",
          "data": {
            "text/plain": [
              "((4, 4), (4, 4))"
            ]
          },
          "metadata": {},
          "execution_count": 2
        }
      ],
      "source": [
        "#행렬 (행과 열로 이루어진 2차원 배열을 행렬이라고 한다) 2차원 배열\n",
        "#행렬의 차원이 같아야 연산이 가능하다\n",
        "#같은 위치에서의 연산은 Element-wise 연산이라고 한다(두 행렬의 차원이 같아야함)\n",
        "#내적 연산(Dot Product): 연산되는 앞행렬(열)과 뒤행렬(행) 차원이 같아야합니다 예) 2행 3열의 배열에서 3행 2 열의 값을 계산할 수 있다\n",
        "import numpy as np\n",
        "\n",
        "arr1 = np.array([[1,2,3,4],\n",
        "                [5,6,7,8,],\n",
        "                [9,10,11,12],\n",
        "                 [13,14,15,16]])\n",
        "\n",
        "arr2 = np.array([[1,2,3,4],\n",
        "                [5,6,7,8,],\n",
        "                [9,10,11,12],\n",
        "                 [13,14,15,16]])\n",
        "\n",
        "print(arr1 + arr2)\n",
        "\n",
        "np.shape(arr1) , np.shape(arr2) #Element-wize\n",
        "\n",
        "\n"
      ]
    },
    {
      "cell_type": "code",
      "source": [
        "#Dot Product\n",
        "\n",
        "np.dot(arr1,arr2) # 90이 나온 이유 1 * 1 + 2*5 + 3* 9 + 4* 13\n",
        "                  # 1*2 + 2*6 + 3*10 + 4*14 = 100\n",
        "                  # 1*3 + 2*7 + 3*11 + 4*15 = 110 \n",
        "                  "
      ],
      "metadata": {
        "colab": {
          "base_uri": "https://localhost:8080/"
        },
        "id": "-7pNqDFMfeXG",
        "outputId": "cb670e22-ba37-4d2c-84cf-a8225e009792"
      },
      "execution_count": 3,
      "outputs": [
        {
          "output_type": "execute_result",
          "data": {
            "text/plain": [
              "array([[ 90, 100, 110, 120],\n",
              "       [202, 228, 254, 280],\n",
              "       [314, 356, 398, 440],\n",
              "       [426, 484, 542, 600]])"
            ]
          },
          "metadata": {},
          "execution_count": 3
        }
      ]
    },
    {
      "cell_type": "code",
      "source": [
        "arr3 = np.array([[1,2,3,4],[5,6,7,8]])\n",
        "arr4 = np.array([[1,2],[5,6],[9,10],[13,14]])"
      ],
      "metadata": {
        "id": "PJ_2MROngeMk"
      },
      "execution_count": 5,
      "outputs": []
    },
    {
      "cell_type": "code",
      "source": [
        "np.dot(arr3,arr4)"
      ],
      "metadata": {
        "colab": {
          "base_uri": "https://localhost:8080/"
        },
        "id": "jS-eYDPsjOaw",
        "outputId": "3c2f29c7-c77e-4fb0-d4ec-59f79fb97eaf"
      },
      "execution_count": 6,
      "outputs": [
        {
          "output_type": "execute_result",
          "data": {
            "text/plain": [
              "array([[ 90, 100],\n",
              "       [202, 228]])"
            ]
          },
          "metadata": {},
          "execution_count": 6
        }
      ]
    },
    {
      "cell_type": "code",
      "source": [
        "# BroadCasting 연산\n",
        "# 저차원 배열의 연산을 고차원 배열로 확장시키는 것을 의미합니다\n",
        "\n",
        "arr3d = np.array([[[0,1],[2,3],[4,5],[6,7]],[[8,9],[10,11],[12,13],[14,15]],[[16,17],[18,19],[20,21],[22,23]]])\n",
        "arr2d = np.array([[0,1],[2,3],[4,5],[6,7]])\n",
        "\n",
        "\n",
        "np.shape(arr3d) , np.shape(arr2d)"
      ],
      "metadata": {
        "id": "4NQXSRPDj5Tt",
        "colab": {
          "base_uri": "https://localhost:8080/"
        },
        "outputId": "77ff3d02-460d-4e05-cac8-6cd441744a49"
      },
      "execution_count": 8,
      "outputs": [
        {
          "output_type": "execute_result",
          "data": {
            "text/plain": [
              "((3, 4, 2), (4, 2))"
            ]
          },
          "metadata": {},
          "execution_count": 8
        }
      ]
    },
    {
      "cell_type": "code",
      "source": [
        "print(arr3d + arr2d)\n",
        "\n",
        "print(arr2d * 10)\n"
      ],
      "metadata": {
        "colab": {
          "base_uri": "https://localhost:8080/"
        },
        "id": "_mlrUL233hbY",
        "outputId": "acf9ed68-f713-44c8-c071-78e685faaf11"
      },
      "execution_count": 10,
      "outputs": [
        {
          "output_type": "stream",
          "name": "stdout",
          "text": [
            "[[[ 0  2]\n",
            "  [ 4  6]\n",
            "  [ 8 10]\n",
            "  [12 14]]\n",
            "\n",
            " [[ 8 10]\n",
            "  [12 14]\n",
            "  [16 18]\n",
            "  [20 22]]\n",
            "\n",
            " [[16 18]\n",
            "  [20 22]\n",
            "  [24 26]\n",
            "  [28 30]]]\n",
            "[[ 0 10]\n",
            " [20 30]\n",
            " [40 50]\n",
            " [60 70]]\n"
          ]
        }
      ]
    },
    {
      "cell_type": "code",
      "source": [
        ""
      ],
      "metadata": {
        "id": "w6F6Bx2F4cAG"
      },
      "execution_count": null,
      "outputs": []
    }
  ]
}