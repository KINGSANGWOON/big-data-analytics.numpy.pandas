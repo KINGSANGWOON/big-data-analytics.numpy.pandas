{
  "nbformat": 4,
  "nbformat_minor": 0,
  "metadata": {
    "colab": {
      "name": "numpy(본문1).ipynb",
      "provenance": [],
      "collapsed_sections": [],
      "authorship_tag": "ABX9TyO8TkaM+1bu96sfsJ52UVuo",
      "include_colab_link": true
    },
    "kernelspec": {
      "name": "python3",
      "display_name": "Python 3"
    },
    "language_info": {
      "name": "python"
    }
  },
  "cells": [
    {
      "cell_type": "markdown",
      "metadata": {
        "id": "view-in-github",
        "colab_type": "text"
      },
      "source": [
        "<a href=\"https://colab.research.google.com/github/KINGSANGWOON/personal-study/blob/main/numpy(%EB%B3%B8%EB%AC%B81).ipynb\" target=\"_parent\"><img src=\"https://colab.research.google.com/assets/colab-badge.svg\" alt=\"Open In Colab\"/></a>"
      ]
    },
    {
      "cell_type": "code",
      "execution_count": null,
      "metadata": {
        "id": "oGavVJOaxt7S"
      },
      "outputs": [],
      "source": [
        "#라이브러리 불러오기 (라이브러리란 모듈.py의 집합이라고 볼 수 있다)\n",
        "import numpy  as np\n",
        "import pandas as pd\n",
        "import matplotlib.pyplot as plt\n",
        "import seaborn as sns"
      ]
    },
    {
      "cell_type": "code",
      "source": [
        "np.array((2,2))\n"
      ],
      "metadata": {
        "colab": {
          "base_uri": "https://localhost:8080/"
        },
        "id": "Hypd4qU0yShN",
        "outputId": "846f470a-7f18-4bb3-ed89-398d59eeae62"
      },
      "execution_count": null,
      "outputs": [
        {
          "output_type": "execute_result",
          "data": {
            "text/plain": [
              "array([2, 2])"
            ]
          },
          "metadata": {},
          "execution_count": 5
        }
      ]
    },
    {
      "cell_type": "code",
      "source": [
        "#numpy 를 사용하는 이유는 Python 에서는 배열 자료형을 지원하지 않기 때문에, numpy 와 같은 라이브러리를 사용한다 (배열 같은 타입을 가지는 데이터가 나열된 집합)\n",
        "\n",
        "array1 = np.array([1,2,3])\n",
        "print(np.shape(array1)) # shape는 차원을 알 수 있다\n",
        "\n",
        "\n",
        "array2 = np.array([[1,2,3],[3,4,5]])\n",
        "print(np.shape(array2))\n",
        "# 1 2 3 \n",
        "# 3 4 5 \n",
        "# 즉 열이 2 줄 행이 3 개\n",
        "\n",
        "array3 = np.array([[[1,2,3],[4,5,6]],[[7,8,9],[10,11,12]]])\n",
        "print(np.shape(array3))\n",
        "# 1 2 3\n",
        "# 4 5 6 \n",
        "# 뒤에 \n",
        "# 7 8 9\n",
        "# 10 11 12\n",
        "# 첫번째 열 2 개 \n",
        "# 두번째 열 2 개 \n",
        "# 행의 갯수는 둘 다 3개\n",
        "\n",
        "# 그냥 shape 에 나오는 갯수를 통해서 배열의 차원을 알 수 있다 예 ) 하나면 1 차원  등등 "
      ],
      "metadata": {
        "colab": {
          "base_uri": "https://localhost:8080/"
        },
        "id": "CPFW4D9qyriG",
        "outputId": "96084edf-07aa-497a-9506-e2d3f3203335"
      },
      "execution_count": null,
      "outputs": [
        {
          "output_type": "stream",
          "name": "stdout",
          "text": [
            "(3,)\n",
            "(2, 3)\n",
            "(2, 2, 3)\n"
          ]
        }
      ]
    },
    {
      "cell_type": "code",
      "source": [
        ""
      ],
      "metadata": {
        "id": "gGwnV3VMRbk4"
      },
      "execution_count": null,
      "outputs": []
    },
    {
      "cell_type": "code",
      "source": [
        "#numpy란 무엇인가\n",
        "#다차원 배열을 쉽고 효율적으로 계산할 수 있도록 도와주는 것이다(배열의 연산을 하는 파이썬 대표 라이브러리)\n",
        "\n",
        "\n",
        "list1 = [1,2,3]\n",
        "np.array(list1)"
      ],
      "metadata": {
        "colab": {
          "base_uri": "https://localhost:8080/"
        },
        "id": "d40WoL5rzep7",
        "outputId": "a6d482f4-812d-4a03-c085-c0de27b2046f"
      },
      "execution_count": null,
      "outputs": [
        {
          "output_type": "execute_result",
          "data": {
            "text/plain": [
              "array([1, 2, 3])"
            ]
          },
          "metadata": {},
          "execution_count": 18
        }
      ]
    },
    {
      "cell_type": "code",
      "source": [
        "# numpy의 자체 생성 함수 활용\n",
        "print(np.array([1,2,3], dtype=int)) #dype 하면 배열의 타입을 정할 수 있다\n",
        "\n",
        "print(np.array([1,2,3],dtype=float))\n",
        "\n",
        "print(np.array([1,2,3], dtype=str)) # 출력의 U1은 유니코드 문자형을 말하는 것이므로 잘 출력이 되었음을 알 수 있다\n",
        "\n",
        "print(np.array(['1','2','3'], dtype=int)) # string 도 int 자료형으로 해줄 수 있다"
      ],
      "metadata": {
        "colab": {
          "base_uri": "https://localhost:8080/"
        },
        "id": "j55NbnqE5XGb",
        "outputId": "08146a7e-6c7a-450a-ac7d-9cf56fad51f1"
      },
      "execution_count": null,
      "outputs": [
        {
          "output_type": "stream",
          "name": "stdout",
          "text": [
            "[1 2 3]\n",
            "[1. 2. 3.]\n",
            "['1' '2' '3']\n",
            "[1 2 3]\n"
          ]
        }
      ]
    },
    {
      "cell_type": "code",
      "source": [
        "# 자체 생성 함수\n",
        "print(np.ones((3,3),dtype=int)) # 3,3 이니까 2 차원 배열로 열3 행3 그리고 안의 값은 one \n",
        "\n",
        "print(np.zeros((4,4))) #기본적으로 실수형의 type 을 제공하는 것 같다\n",
        "\n",
        "\n",
        "# 단위 행렬\n",
        "print(np.eye(3,3)) # 수학적인 개념인데 아직은 단위 행렬 기능이구나 정도만 알아놓자\n",
        "print(np.eye(4,4))\n",
        "\n",
        "#사용자 지정 값\n",
        "print(np.full((3,3),10))\n",
        "print(np.full((3,3),80))\n",
        "\n",
        "#랜덤 지정 값\n",
        "np.random.rand(4,4) # 0부터 1까지 사이에 배열을 만들어 준다\n",
        "np.random.rand(3,2)\n",
        "\n"
      ],
      "metadata": {
        "colab": {
          "base_uri": "https://localhost:8080/"
        },
        "id": "4f1iURUY5q21",
        "outputId": "e3c7e078-f658-41bf-ee74-42cbca894355"
      },
      "execution_count": null,
      "outputs": [
        {
          "output_type": "stream",
          "name": "stdout",
          "text": [
            "[[1 1 1]\n",
            " [1 1 1]\n",
            " [1 1 1]]\n",
            "[[0. 0. 0. 0.]\n",
            " [0. 0. 0. 0.]\n",
            " [0. 0. 0. 0.]\n",
            " [0. 0. 0. 0.]]\n",
            "[[1. 0. 0.]\n",
            " [0. 1. 0.]\n",
            " [0. 0. 1.]]\n",
            "[[1. 0. 0. 0.]\n",
            " [0. 1. 0. 0.]\n",
            " [0. 0. 1. 0.]\n",
            " [0. 0. 0. 1.]]\n",
            "[[10 10 10]\n",
            " [10 10 10]\n",
            " [10 10 10]]\n",
            "[[80 80 80]\n",
            " [80 80 80]\n",
            " [80 80 80]]\n"
          ]
        },
        {
          "output_type": "execute_result",
          "data": {
            "text/plain": [
              "array([[0.10871937, 0.58551164],\n",
              "       [0.10011638, 0.55181575],\n",
              "       [0.49250026, 0.59765277]])"
            ]
          },
          "metadata": {},
          "execution_count": 43
        }
      ]
    },
    {
      "cell_type": "code",
      "source": [
        "# 동간격 배열 생성\n",
        "\n",
        "print(np.arange(10)) # 0 ~ 10 까지의 배열을 만들어 준다\n",
        "\n",
        "print(np.arange(2,10)) # 2 부터 10까지 만들어 준다\n",
        "\n",
        "print(np.arange(2,10,2)) #2 부터 10까지 2씩 간격으로\n",
        "print(np.arange(1,20,3)) \n",
        "print(np.arange(1,15))\n",
        "\n",
        "np.linspace(2,10,3) # 1 부터 10 사이의 5개의 등간격을 가지고 싶다면 linspace를 쓰면 된다 \n",
        "np.linspace(5,10,3)"
      ],
      "metadata": {
        "colab": {
          "base_uri": "https://localhost:8080/"
        },
        "id": "oGBf_pOQ6f_G",
        "outputId": "2343b5b4-3de1-4c9d-f29b-37c6cb3f368d"
      },
      "execution_count": null,
      "outputs": [
        {
          "output_type": "stream",
          "name": "stdout",
          "text": [
            "[0 1 2 3 4 5 6 7 8 9]\n",
            "[2 3 4 5 6 7 8 9]\n",
            "[2 4 6 8]\n",
            "[ 1  4  7 10 13 16 19]\n",
            "[ 1  2  3  4  5  6  7  8  9 10 11 12 13 14]\n"
          ]
        },
        {
          "output_type": "execute_result",
          "data": {
            "text/plain": [
              "array([ 5. ,  7.5, 10. ])"
            ]
          },
          "metadata": {},
          "execution_count": 54
        }
      ]
    },
    {
      "cell_type": "code",
      "source": [
        "#슬라이싱 (Slicing)\n",
        "\n",
        "#arr[ 행(row) , 열(column) ]\n",
        "\n",
        "arr1 = np.array([[1,2,3,4],\n",
        "                [5,6,7,8],\n",
        "                [9,10,11,12],\n",
        "                 [13,14,15,16]])\n",
        "\n",
        "print(arr1[0])\n",
        "print(arr1[1])\n",
        "print(arr1[2,:]) # 행 기준 슬라이싱\n",
        "print(arr1[:,0]) # 열 기준 슬라이싱\n",
        "\n",
        "print(arr1[::2]) # 간격을 지정해서 슬라이싱\n",
        "\n",
        "print(arr1[1:3])\n",
        "print(arr1[:,2:3])\n",
        "\n",
        "print(arr1[:,-1])\n",
        "\n",
        "print(arr1[0:2,2:4])\n",
        "\n",
        "print(arr1[1:3,-1])\n",
        "\n",
        "print(arr1[2:4,1:3])\n",
        "\n"
      ],
      "metadata": {
        "colab": {
          "base_uri": "https://localhost:8080/"
        },
        "id": "91JxZ3yW-nhM",
        "outputId": "4eca392c-60e4-4bd7-9ceb-82e4f3602d32"
      },
      "execution_count": null,
      "outputs": [
        {
          "output_type": "stream",
          "name": "stdout",
          "text": [
            "[1 2 3 4]\n",
            "[5 6 7 8]\n",
            "[ 9 10 11 12]\n",
            "[ 1  5  9 13]\n",
            "[[ 1  2  3  4]\n",
            " [ 9 10 11 12]]\n",
            "[[ 5  6  7  8]\n",
            " [ 9 10 11 12]]\n",
            "[[ 3]\n",
            " [ 7]\n",
            " [11]\n",
            " [15]]\n",
            "[ 4  8 12 16]\n",
            "[[3 4]\n",
            " [7 8]]\n",
            "[ 8 12]\n",
            "[[10 11]\n",
            " [14 15]]\n"
          ]
        }
      ]
    },
    {
      "cell_type": "code",
      "source": [
        "#fancy  인덱싱 해당하는 위치의 값을 쏙 빼오는 것\n",
        "\n",
        "print(arr1[3,3])  \n",
        "\n",
        "print(arr1[[0,2],:])\n",
        "\n",
        "print(arr1[[0,1,3],:])\n",
        "\n",
        "\n",
        "print(arr1[:,[0,1,2]])\n",
        "\n",
        "print(arr1[[0,1],[0,1]]) # 1 6이 나온다\n",
        "\n",
        "print(arr1[[0,1],[2,3]]) # 3 8이 나온다\n",
        "\n"
      ],
      "metadata": {
        "colab": {
          "base_uri": "https://localhost:8080/"
        },
        "id": "NKg1sW2bDcFE",
        "outputId": "a0b92144-dc4d-4fc9-aa72-4ece514ae75e"
      },
      "execution_count": null,
      "outputs": [
        {
          "output_type": "stream",
          "name": "stdout",
          "text": [
            "16\n",
            "[[ 1  2  3  4]\n",
            " [ 9 10 11 12]]\n",
            "[[ 1  2  3  4]\n",
            " [ 5  6  7  8]\n",
            " [13 14 15 16]]\n",
            "[[ 1  2  3]\n",
            " [ 5  6  7]\n",
            " [ 9 10 11]\n",
            " [13 14 15]]\n",
            "[1 6]\n",
            "[3 8]\n"
          ]
        }
      ]
    },
    {
      "cell_type": "code",
      "source": [
        "# Boolean 인덱싱\n",
        "\n",
        "\n",
        "boolean1 = np.array([[True,True,True,True],[False,False,False,False],[True,True,True,True],[False,False,False,False]])"
      ],
      "metadata": {
        "id": "Mhjix-9RG2iF"
      },
      "execution_count": null,
      "outputs": []
    },
    {
      "cell_type": "code",
      "source": [
        "print(arr1[boolean1]) # true인 값만 출력한다\n",
        "\n",
        "# boolean 배열 생성\n",
        "arr1 > 5 # 5 보다 큰 값들은 True 아닌 값들은 False의 값을 출력한다\n",
        "\n",
        "print(arr1[arr1>10]) # arr1 에서 10 보다 큰 True 값들을 출력해준다는 뜻이다\n",
        "\n",
        "print(arr1[arr1 < 4])"
      ],
      "metadata": {
        "colab": {
          "base_uri": "https://localhost:8080/"
        },
        "id": "UXKvo4XsJC_Z",
        "outputId": "db6e2b5a-c3c1-40b5-81fc-c6f9e872fcfa"
      },
      "execution_count": null,
      "outputs": [
        {
          "output_type": "execute_result",
          "data": {
            "text/plain": [
              "array([ 1,  2,  3,  4,  9, 10, 11, 12])"
            ]
          },
          "metadata": {},
          "execution_count": 93
        }
      ]
    },
    {
      "cell_type": "code",
      "source": [
        "# 유용한 numpy 함수\n",
        "\n",
        "#최소값, 최대값\n",
        "print(np.min(arr1),np.max(arr1))\n",
        "\n",
        "#최소값 , 최대값의 인덱스\n",
        "print(np.argmin(arr1),np.argmax(arr1))\n",
        "\n",
        "#전체 합, 평균\n",
        "print(np.sum(arr1), np.mean(arr1)) \n",
        "\n",
        "#특정 값의 인덱스\n",
        "np.where(arr1==3)\n"
      ],
      "metadata": {
        "colab": {
          "base_uri": "https://localhost:8080/"
        },
        "id": "wQ_XHM4_JJdn",
        "outputId": "e659999d-4b2c-4a74-952d-c532143d55d9"
      },
      "execution_count": null,
      "outputs": [
        {
          "output_type": "stream",
          "name": "stdout",
          "text": [
            "1 16\n",
            "0 15\n",
            "136 8.5\n"
          ]
        },
        {
          "output_type": "execute_result",
          "data": {
            "text/plain": [
              "(array([0]), array([2]))"
            ]
          },
          "metadata": {},
          "execution_count": 105
        }
      ]
    },
    {
      "cell_type": "code",
      "source": [
        "#배열 차원 변환 reshape로 차원을 변환할 수 있다\n",
        "\n",
        "arr2 = np.arange(10) # 1 차원 배열을 만들어 줬다\n",
        "\n",
        "arr3 = arr2.reshape(2,5) # 2차원으로 변경이 가능하다 참고로 변환 하는 차원도 값이 맞아야 한다 그렇지 않으면 에러가 난다 예 10개의 index 가 있는데 reshape(2,4) 2개의 행과 4개의 열을 하면 모든 수가 들어 갈 수 없어 에러 발생한다\n",
        "\n",
        "print(arr3)\n",
        "print(np.shape(arr3))\n",
        "\n",
        "arr4 = arr2.reshape(2,-1) # -1을 쓰면 자동적으로 나눠주기도 한다\n",
        "print(arr4) \n"
      ],
      "metadata": {
        "colab": {
          "base_uri": "https://localhost:8080/"
        },
        "id": "9foqItZqJScH",
        "outputId": "a4fc33d0-aeda-42f1-a710-ed7ce6c67a1c"
      },
      "execution_count": null,
      "outputs": [
        {
          "output_type": "stream",
          "name": "stdout",
          "text": [
            "[[0 1 2 3 4]\n",
            " [5 6 7 8 9]]\n",
            "(2, 5)\n",
            "[[0 1 2 3 4]\n",
            " [5 6 7 8 9]]\n"
          ]
        }
      ]
    },
    {
      "cell_type": "code",
      "source": [
        "#정렬(sort) 기본적으로 오름차순이고 -1을 추가하면 내림차순으로 바뀐다\n",
        "\n",
        "TestArr = np.array([2,1,8,4,9,2,3,7,5])\n",
        "\n",
        "print(np.sort(TestArr))\n",
        "print(np.sort(TestArr)[::-1])\n",
        "\n",
        "\n",
        "# N 차원 정렬\n",
        "\n",
        "NTestArr = np.array([[33,22,66,33],[12,54,56,23],[43,45,87,12],[34,76,55,45]])\n",
        "\n",
        "print(np.sort(NTestArr,axis=0)) # 행 방향 정렬\n",
        "\n",
        "np.sort(NTestArr,axis=0)[::-1] # 행 방향 내림차순 정렬\n",
        "\n",
        "print(np.sort(NTestArr,axis=1)) # 열 방향은 axis에 값을 1을 넣어주면 된다\n",
        "\n",
        "print(np.sort(NTestArr,axis=1)[::-1])\n"
      ],
      "metadata": {
        "colab": {
          "base_uri": "https://localhost:8080/"
        },
        "id": "QZWLtpFFLetV",
        "outputId": "42c84936-b4cb-4b28-8750-91dbacd6282d"
      },
      "execution_count": null,
      "outputs": [
        {
          "output_type": "stream",
          "name": "stdout",
          "text": [
            "[1 2 2 3 4 5 7 8 9]\n",
            "[9 8 7 5 4 3 2 2 1]\n",
            "[[12 22 55 12]\n",
            " [33 45 56 23]\n",
            " [34 54 66 33]\n",
            " [43 76 87 45]]\n",
            "[[22 33 33 66]\n",
            " [12 23 54 56]\n",
            " [12 43 45 87]\n",
            " [34 45 55 76]]\n",
            "[[34 45 55 76]\n",
            " [12 43 45 87]\n",
            " [12 23 54 56]\n",
            " [22 33 33 66]]\n"
          ]
        }
      ]
    },
    {
      "cell_type": "code",
      "source": [
        ""
      ],
      "metadata": {
        "id": "4TQpgADlNtFU"
      },
      "execution_count": null,
      "outputs": []
    }
  ]
}